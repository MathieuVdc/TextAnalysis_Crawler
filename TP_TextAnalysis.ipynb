{
 "cells": [
  {
   "cell_type": "markdown",
   "metadata": {},
   "source": [
    "# TEXT ANALYSIS & INFORMATION RETRIEVAL"
   ]
  },
  {
   "cell_type": "markdown",
   "metadata": {},
   "source": [
    "# Mathieu VANDECASTEELE - M2 SID Janv. 2019"
   ]
  },
  {
   "cell_type": "markdown",
   "metadata": {},
   "source": [
    "# Université de Rouen"
   ]
  },
  {
   "cell_type": "markdown",
   "metadata": {},
   "source": [
    "Ce TP est à destination de Pierre Héroux, enseignant-chercheur à l'université de Rouen. Il se décompose en deux parties : l'implémentation d'un système d'Information Retrieval dans un premier temps et la classification de textes dans un second."
   ]
  },
  {
   "cell_type": "markdown",
   "metadata": {},
   "source": [
    "# 1. Information Retrieval"
   ]
  },
  {
   "cell_type": "markdown",
   "metadata": {},
   "source": [
    "Rappel des Consignes : \n",
    "* Implanter un crawler, permettant d'extraire récursivement une liste d'URL à partir d'une liste de germes\n",
    "* Extraire le vocabulaire utilisé par un ensemble de documents pour lesquels on dispose d'une liste d'URL\n",
    "* Fournir une représentation vectorielle de chacun des documents précédents basé sur le vocabulaire extrait\n",
    "* Proposez les 10 premiers documents d'une liste ordonnées sur la base d'un score de correspondance entre requête et document."
   ]
  },
  {
   "cell_type": "code",
   "execution_count": 29,
   "metadata": {},
   "outputs": [],
   "source": [
    "# Imports nécessaires\n",
    "import numpy as np\n",
    "import matplotlib.pyplot as plt\n",
    "from bs4 import BeautifulSoup\n",
    "import urllib.request as urlreq\n",
    "import re\n",
    "import string\n",
    "import json\n",
    "from sklearn.feature_extraction.text import TfidfTransformer,  CountVectorizer, TfidfVectorizer\n",
    "from sklearn.model_selection import train_test_split\n",
    "import seaborn as sns\n",
    "from sklearn.metrics import classification_report\n",
    "from sklearn.metrics import confusion_matrix\n",
    "from sklearn.naive_bayes import MultinomialNB\n",
    "from sklearn.model_selection import GridSearchCV"
   ]
  },
  {
   "cell_type": "code",
   "execution_count": 20,
   "metadata": {},
   "outputs": [],
   "source": [
    "# Fonctions codées pour cette partie de TP\n",
    "\n",
    "def get_urls_from_a_webpage(url):\n",
    "    \"\"\"\n",
    "        Retourne tous les URLs intéressants d'une page Wikipédia française\n",
    "    \"\"\"\n",
    "    url_list = []\n",
    "    html_page = urlreq.urlopen(url)\n",
    "    soup = BeautifulSoup(html_page)\n",
    "    for link in soup.findAll('a'):\n",
    "        temp = link.get('href')\n",
    "        # On s'assure que le lien soit correct, qu'il redirige vers une page externe et non un fichier.\n",
    "        if temp and temp[0] == '/': \n",
    "            if temp[1]=='/':\n",
    "                url = \"https:\"+temp\n",
    "            else : \n",
    "                url = \"https://fr.wikipedia.org\"+temp\n",
    "            if not (url[len(url)-3:len(url)]=='jpg' or url[len(url)-10:len(url)-3]=='section' or url[len(url)-9:len(url)-2]=='section' or url == 'https://fr.wikipedia.org/wiki/Cat%C3%A9gorie:Article_avec_une_section_vide_ou_incompl%C3%A8te'):\n",
    "                url_list.append(url)\n",
    "    return (np.unique(url_list)).tolist()\n",
    "  \n",
    "    \n",
    "def get_full_list_urls(start_url_list):\n",
    "    \"\"\"\n",
    "        Retourne tous les URLs d'une liste de germes\n",
    "    \"\"\"        \n",
    "    final_list = []\n",
    "    \n",
    "    for start_url in start_url_list:\n",
    "        \n",
    "        leveltwo = []\n",
    "        print('Exploring... '+str(start_url))\n",
    "        leveltwo.extend(get_urls_from_a_webpage(start_url))\n",
    "        \n",
    "        final_list.append(start_url)\n",
    "        final_list.extend(leveltwo)\n",
    "       \n",
    "    return (np.unique(final_list)).tolist()\n",
    "    \n",
    "    \n",
    "    \n",
    "def get_webpage_raw_text(url):\n",
    "    \"\"\"\n",
    "        Crée un dictionnaire du contenu d'une page web.\n",
    "    \"\"\"\n",
    "    dic = {}\n",
    "    dic['title'] = []\n",
    "    dic['url']= [url]\n",
    "    dic['subtitles'] = []\n",
    "    dic['content'] = []\n",
    "    \n",
    "    subtitle_tags = ['h2','h3','h4','h5','h6']\n",
    "    \n",
    "    try :\n",
    "        html_page = urlreq.urlopen(url)\n",
    "        soup = BeautifulSoup(html_page)\n",
    "        for link in soup.findAll('h1'):\n",
    "            dic['title'].append(link.text)\n",
    "        for tag in subtitle_tags:\n",
    "            for link in soup.findAll(tag):\n",
    "                dic['subtitles'].append(link.text)\n",
    "        dic['content'] = soup.body.text\n",
    "    except :\n",
    "        print(str(url)+' is a non valid URL for parsing')\n",
    "    finally :\n",
    "        return dic\n",
    "\n",
    "\n",
    "def get_text_cleaned(raw_text):\n",
    "    \"\"\"\n",
    "        Nettoie le texte passé en entrée. On s'assure de retirer toutes les ponctuations, les majuscules, les espaces en trop et on s'assure enfin que aucun mots ne sont collés entre eux.\n",
    "    \"\"\"\n",
    "    table = str.maketrans('', '', string.punctuation + '’°“‘”—→»«®©℠↑²™')\n",
    "    cleaned = raw_text.translate(table).lower().rstrip().lstrip()\n",
    "    cleanedplus = cleaned.replace('\\n',' ').replace('\\xa0',' ').replace('\\t',' ').replace('  ',' ')\n",
    "    cleaned_better = cleanedplus.replace('  ',' ').replace('  ',' ').replace('  ',' ').replace('  ',' ')\n",
    "    cleaned_best = cleaned_better.replace('  ',' ').rstrip().lstrip()\n",
    "    return cleaned_best\n",
    "\n",
    "\n",
    "def clean_dic_content(dictionnary):\n",
    "    \"\"\"\n",
    "        Prend un dictionnaire créé d'une page web en entrée et nettoie son contenu.\n",
    "    \"\"\"\n",
    "    text_to_clean = dictionnary['content']\n",
    "    text_cleaned = get_text_cleaned(text_to_clean)\n",
    "    dictionnary['content']=[text_cleaned]\n",
    "    return dictionnary\n",
    "\n",
    "\n",
    "def make_document_dictionnary(url):\n",
    "    \"\"\"\n",
    "        Crée un dictionnaire nettoyé d'une page web.\n",
    "    \"\"\"\n",
    "    dic = get_webpage_raw_text(url)\n",
    "    if ((dic['content'] != []) and (dic != None)):\n",
    "        return clean_dic_content(dic)\n",
    "\n",
    "    \n",
    "def make_a_Query(query, text_list):\n",
    "    \"\"\"\n",
    "        Permet de faire une requête. Plusieurs étapes : Bag fo Words pour chaque document + TFIDF + calcul du score avec un dot product.\n",
    "    \"\"\"\n",
    "    tfidf_vectorizer = TfidfVectorizer()\n",
    "    tfidf_vectorizer.fit(text_list)\n",
    "    \n",
    "    score = -tfidf_vectorizer.transform(text_list) * tfidf_vectorizer.transform(query).T.toarray().sum(axis = 1)\n",
    "    rank = 0\n",
    "                                        \n",
    "    for i in (np.argsort(score)[0:10]):\n",
    "        rank = rank+1\n",
    "        print(str(rank)+\"-> \"+str(url_list[i])+\" , score de : %.2f\" % (-score[i]))"
   ]
  },
  {
   "cell_type": "markdown",
   "metadata": {},
   "source": [
    "On définit une liste d'URL de base comme étant les germes de notre crawler. Pour économiser du temps de calcul nous n'allons prendre que 2 URLS : un axé histoire et un autre axé informatique."
   ]
  },
  {
   "cell_type": "code",
   "execution_count": null,
   "metadata": {},
   "outputs": [],
   "source": [
    "liste = []\n",
    "liste.append(\"https://fr.wikipedia.org/wiki/Cinqui%C3%A8me_R%C3%A9publique_(France)\")\n",
    "liste.append(\"https://fr.wikipedia.org/wiki/Bill_Gates\")\n",
    "\n",
    "url_list = get_full_list_urls(liste)\n",
    "print(len(url_list))"
   ]
  },
  {
   "cell_type": "markdown",
   "metadata": {},
   "source": [
    "Maintenant nous créons les dictionnaires et nous les stockons dans une liste : certaines pages ne peuvent pas être parsées et par conséquent nous retournons des erreurs dans ces situations."
   ]
  },
  {
   "cell_type": "code",
   "execution_count": 4,
   "metadata": {},
   "outputs": [
    {
     "name": "stdout",
     "output_type": "stream",
     "text": [
      "https://fr.wikipedia.org/wiki/Wikipédia:Contact is a non valid URL for parsing\n"
     ]
    }
   ],
   "source": [
    "doc_list = []\n",
    "for url in url_list:\n",
    "    doc_list.append(make_document_dictionnary(url))"
   ]
  },
  {
   "cell_type": "code",
   "execution_count": 7,
   "metadata": {},
   "outputs": [
    {
     "name": "stdout",
     "output_type": "stream",
     "text": [
      "a supprimer : 787\n"
     ]
    }
   ],
   "source": [
    "# Récupérer chaque contenu dans une liste :\n",
    "# L'idée est d'abord de nettoyer la liste de dictionnaire et de s'assurer qu'il n'y a pas de dictionnaires vides ou de dictionnaires possédant un contenu vide. \n",
    "# Le parsing des pages web n'est pas tout le temps parfait.\n",
    "# Si il y a un problème, un indice de dictionnaire à supprimer dans la liste des URLs est retourné.\n",
    "cleaned_doc_list = []\n",
    "indice = 0\n",
    "for doc in doc_list :\n",
    "    if (doc != None):\n",
    "        cleaned_doc_list.append(doc)\n",
    "        indice = indice+1\n",
    "    else :\n",
    "        print(\"a supprimer : \"+str(indice))\n",
    "        indice = indice+1\n",
    "        \n",
    "# Nous supprimons l'élément d'indice 787.       \n",
    "#del doc_list[787]\n",
    "\n",
    "        \n",
    "# Nous créons un vecteur de textes où chaque élément est donc un des textes correspondant à un URL. \n",
    "texts_list = []\n",
    "for doc in cleaned_doc_list :\n",
    "    try :\n",
    "        if (doc['content'] != None) and (doc['url'] != None):\n",
    "            texts_list.append(doc['content'][0])\n",
    "    except :\n",
    "        print(str(doc)+\"Erreur Document Vide\")\n",
    "        \n",
    "# à la fin nous devons avoir un dictionnaire nettoyé de textes et une liste d'URL de même taille et ordonnés de la même façon !!"
   ]
  },
  {
   "cell_type": "markdown",
   "metadata": {},
   "source": [
    "Nous faisons deux requêtes d'essai :"
   ]
  },
  {
   "cell_type": "code",
   "execution_count": 21,
   "metadata": {},
   "outputs": [
    {
     "name": "stdout",
     "output_type": "stream",
     "text": [
      "Résultat : Informatique\n",
      "1-> https://fr.wikipedia.org/wiki/Cat%C3%A9gorie:Portail:Informatique/Articles_li%C3%A9s , score de : 0.40\n",
      "2-> https://fr.wikipedia.org/wiki/Informatique , score de : 0.23\n",
      "3-> https://fr.wikipedia.org/wiki/Informaticien , score de : 0.19\n",
      "4-> https://fr.wikipedia.org/wiki/Portail:Logiciel , score de : 0.17\n",
      "5-> https://fr.wikipedia.org/wiki/1975_en_informatique , score de : 0.15\n",
      "6-> https://fr.wikipedia.org/wiki/1985_en_informatique , score de : 0.15\n",
      "7-> https://fr.wikipedia.org/wiki/Interpr%C3%A8te_(informatique) , score de : 0.11\n",
      "8-> https://fr.wikipedia.org/wiki/Logiciel , score de : 0.09\n",
      "9-> https://fr.wikipedia.org/wiki/Programmation_informatique , score de : 0.08\n",
      "10-> https://fr.wikipedia.org/wiki/British_Computer_Society , score de : 0.07\n",
      "\n",
      "Résultat : Charles de Gaulle\n",
      "1-> https://fr.wikipedia.org/wiki/Charles_de_Gaulle , score de : 1.11\n",
      "2-> https://fr.wikipedia.org/wiki/Crise_de_mai_1958 , score de : 0.78\n",
      "3-> https://fr.wikipedia.org/wiki/Gouvernement_provisoire_de_la_R%C3%A9publique_fran%C3%A7aise , score de : 0.69\n",
      "4-> https://fr.wikipedia.org/wiki/Histoire_de_France_sous_la_Cinqui%C3%A8me_R%C3%A9publique , score de : 0.68\n",
      "5-> https://fr.wikipedia.org/wiki/Michel_Debr%C3%A9 , score de : 0.66\n",
      "6-> https://fr.wikipedia.org/wiki/Georges_Pompidou , score de : 0.65\n",
      "7-> https://fr.wikipedia.org/wiki/Maison_cap%C3%A9tienne_de_Bourbon , score de : 0.65\n",
      "8-> https://fr.wikipedia.org/wiki/Discours_de_Bayeux , score de : 0.64\n",
      "9-> https://fr.wikipedia.org/wiki/Pr%C3%A9sident_de_la_R%C3%A9publique_fran%C3%A7aise , score de : 0.64\n",
      "10-> https://fr.wikipedia.org/w/index.php?title=Cinqui%C3%A8me_R%C3%A9publique_(France)&printable=yes , score de : 0.63\n"
     ]
    }
   ],
   "source": [
    "query = \"Informatique\".split(\" \")   \n",
    "print('Résultat : ' + \" \".join(query))\n",
    "make_a_Query(query,texts_list)    \n",
    "\n",
    "print('')\n",
    "query = \"Charles de Gaulle\".split(\" \")\n",
    "print('Résultat : ' + \" \".join(query))\n",
    "make_a_Query(query,texts_list)    \n"
   ]
  },
  {
   "cell_type": "markdown",
   "metadata": {},
   "source": [
    "Ces résultats sont plutôt satisfaisants. Ils pourraient néanmoins être améliorés avec un nettoyage différent, l'utilisation de Lemmes ou encore avec + de données."
   ]
  },
  {
   "cell_type": "markdown",
   "metadata": {},
   "source": [
    "J'ai également dans les dictionnaires penser à stocker séparemment les titres et sous titres des pages, il serait sûrement possible d'améliorer les résultats en appliquant une pondération plus important sur les mots de ces derniers."
   ]
  },
  {
   "cell_type": "markdown",
   "metadata": {},
   "source": [
    "# 2. Text Analysis"
   ]
  },
  {
   "cell_type": "markdown",
   "metadata": {},
   "source": [
    "* Illustrez l'adéquation d'un ensemble de documents avec la loi de Zipf\n",
    "* Utiliser découper un corpus multi-lingue en une base de d'apprentissage et une base de test et proposez un classifieur pour la reconnaissance de la langue.\n",
    "* Entraînez sur un corpus un modèle génératif de texte déterminant la probabilité d'un mot sachant le précédent. Utilisez-le pour générer des séquences à partir d'un terme. \n",
    "* Chaque nouveau mot wt de la séquence devra être généré aléatoirement avec une probabilité égale à P(wt|wt−1)."
   ]
  },
  {
   "cell_type": "code",
   "execution_count": 28,
   "metadata": {},
   "outputs": [],
   "source": [
    "# Imports nécessaires\n",
    "import nltk\n",
    "from nltk.corpus import reuters\n",
    "from collections import Counter\n",
    "from operator import itemgetter\n",
    "from sklearn.model_selection import GridSearchCV"
   ]
  },
  {
   "cell_type": "markdown",
   "metadata": {},
   "source": [
    "La loi de Zipf est une observation empirique concernant la fréquence des mots dans un texte. En général, il est dit que les stop words, c'est à dire les mots les plus courants dans une langue sont exponentiellement beaucoup plus fréquents que les autres mots. Illustrons là avec un ensemble de documents :"
   ]
  },
  {
   "cell_type": "code",
   "execution_count": 2,
   "metadata": {},
   "outputs": [],
   "source": [
    "# j'importe le corpus reuters et crée une liste de tuples (mots, occurences)\n",
    "reuters_words = [w.lower() for w in reuters.words()]\n",
    "words = set(reuters_words)\n",
    "counts = [(w, reuters_words.count(w)) for w in words]\n"
   ]
  },
  {
   "cell_type": "code",
   "execution_count": 3,
   "metadata": {},
   "outputs": [
    {
     "name": "stdout",
     "output_type": "stream",
     "text": [
      "1720901\n"
     ]
    }
   ],
   "source": [
    "# Nombre de mots dans le corpus :\n",
    "print(len(reuters.words()))"
   ]
  },
  {
   "cell_type": "code",
   "execution_count": 4,
   "metadata": {},
   "outputs": [],
   "source": [
    "# je la trie dans l'ordre décroissant\n",
    "sorted_data = sorted(counts, key=lambda tup:(-tup[1], tup[0]))"
   ]
  },
  {
   "cell_type": "code",
   "execution_count": 5,
   "metadata": {},
   "outputs": [
    {
     "data": {
      "text/plain": [
       "[('.', 94687),\n",
       " (',', 72360),\n",
       " ('the', 69277),\n",
       " ('of', 36779),\n",
       " ('to', 36400),\n",
       " ('in', 29253),\n",
       " ('and', 25648),\n",
       " ('said', 25383),\n",
       " ('a', 25103),\n",
       " ('mln', 18623),\n",
       " ('s', 15680),\n",
       " ('vs', 14341),\n",
       " ('for', 13782),\n",
       " ('-', 13705),\n",
       " ('dlrs', 12417)]"
      ]
     },
     "execution_count": 5,
     "metadata": {},
     "output_type": "execute_result"
    }
   ],
   "source": [
    "sorted_data[0:15]"
   ]
  },
  {
   "cell_type": "markdown",
   "metadata": {},
   "source": [
    "La loi semble être valide ici, traçons la courbe :"
   ]
  },
  {
   "cell_type": "code",
   "execution_count": 7,
   "metadata": {},
   "outputs": [],
   "source": [
    "words_zipf = [tup[0] for tup in sorted_data]"
   ]
  },
  {
   "cell_type": "code",
   "execution_count": 10,
   "metadata": {},
   "outputs": [],
   "source": [
    "occurences_zipf = [tup[1] for tup in sorted_data]\n",
    "word_number = 1720901\n",
    "frequences_zipf = [x / word_number for x in occurences_zipf]"
   ]
  },
  {
   "cell_type": "code",
   "execution_count": 14,
   "metadata": {},
   "outputs": [
    {
     "data": {
      "text/plain": [
       "[0.055021758950689205,\n",
       " 0.042047741270415905,\n",
       " 0.040256237866094564,\n",
       " 0.021371944115320986,\n",
       " 0.021151710644598382,\n",
       " 0.016998653612264738,\n",
       " 0.014903820731117014,\n",
       " 0.014749831628896723,\n",
       " 0.014587126162399813,\n",
       " 0.010821656794899881]"
      ]
     },
     "execution_count": 14,
     "metadata": {},
     "output_type": "execute_result"
    }
   ],
   "source": [
    "frequences_zipf[0:10]"
   ]
  },
  {
   "cell_type": "code",
   "execution_count": 17,
   "metadata": {},
   "outputs": [
    {
     "data": {
      "text/plain": [
       "[<matplotlib.lines.Line2D at 0x11b5de780>]"
      ]
     },
     "execution_count": 17,
     "metadata": {},
     "output_type": "execute_result"
    },
    {
     "data": {
      "image/png": "[encoded data removed]",
      "text/plain": [
       "<Figure size 432x288 with 1 Axes>"
      ]
     },
     "metadata": {
      "needs_background": "light"
     },
     "output_type": "display_data"
    }
   ],
   "source": [
    "plt.figure()\n",
    "plt.plot(words_zipf[0:30],frequences_zipf[0:30])"
   ]
  },
  {
   "cell_type": "markdown",
   "metadata": {},
   "source": [
    "On remarque bien cette différence fréquentielles qui a l'allure d'une courbe exponentielle, on valide donc la théorie de Zipf."
   ]
  },
  {
   "cell_type": "markdown",
   "metadata": {},
   "source": [
    "**Maintenant**, faisons une classification de langages. J'ai choisi de classer des langues latines car NLTK possède déjà pas mal de données à utiliser dans ces langues."
   ]
  },
  {
   "cell_type": "code",
   "execution_count": 26,
   "metadata": {},
   "outputs": [
    {
     "data": {
      "text/plain": [
       "{'Swedish_Svenska-Latin1': 121,\n",
       " 'Portuguese_Portugues-Latin1': 80,\n",
       " 'English-Latin1': 67,\n",
       " 'German_Deutsch-Latin1': 60,\n",
       " 'Spanish_Espanol-Latin1': 58,\n",
       " 'French_Francais-Latin1': 57,\n",
       " 'Italian_Italiano-Latin1': 51}"
      ]
     },
     "execution_count": 26,
     "metadata": {},
     "output_type": "execute_result"
    }
   ],
   "source": [
    "# On récupère les données via le corpus udhr :\n",
    "languages = ['Portuguese_Portugues-Latin1', 'Swedish_Svenska-Latin1','French_Francais-Latin1','English-Latin1','German_Deutsch-Latin1','Spanish_Espanol-Latin1','Italian_Italiano-Latin1']\n",
    "dataX = []\n",
    "datay = []\n",
    "for language in languages :\n",
    "    text = nltk.corpus.udhr.sents(language)\n",
    "    for sentences in text:\n",
    "        dataX.append(\" \".join(sentences))\n",
    "        datay.append(language)\n",
    "        \n",
    "def most_popular_elements_in_list(list_to_top, number_wanted):\n",
    "    return dict(Counter(list_to_top).most_common(number_wanted))\n",
    "\n",
    "most_popular_elements_in_list(datay,7)"
   ]
  },
  {
   "cell_type": "markdown",
   "metadata": {},
   "source": [
    "On constate que le suédois et le portugais sont + présents que les autres langues mais on ne peut parler réellement de sur-représentation."
   ]
  },
  {
   "cell_type": "markdown",
   "metadata": {},
   "source": [
    "On split les données en faisant un dataset d'entraînement et un autre de test. Nous ferons de la **crossvalidation** pour valider et généraliser le modèle."
   ]
  },
  {
   "cell_type": "code",
   "execution_count": 27,
   "metadata": {},
   "outputs": [],
   "source": [
    "X_train, X_test, y_train, y_test = train_test_split(dataX,datay,test_size = 0.33)"
   ]
  },
  {
   "cell_type": "markdown",
   "metadata": {},
   "source": [
    "Je choisis d'utiliser une représentation Bag Of Words avec TF-IDF :"
   ]
  },
  {
   "cell_type": "code",
   "execution_count": 33,
   "metadata": {},
   "outputs": [
    {
     "name": "stdout",
     "output_type": "stream",
     "text": [
      "                             precision    recall  f1-score   support\n",
      "\n",
      "             English-Latin1       1.00      0.96      0.98        28\n",
      "     French_Francais-Latin1       1.00      0.96      0.98        23\n",
      "      German_Deutsch-Latin1       1.00      1.00      1.00        11\n",
      "    Italian_Italiano-Latin1       1.00      1.00      1.00        14\n",
      "Portuguese_Portugues-Latin1       1.00      0.71      0.83        35\n",
      "     Spanish_Espanol-Latin1       1.00      1.00      1.00        14\n",
      "     Swedish_Svenska-Latin1       0.76      1.00      0.87        39\n",
      "\n",
      "                  micro avg       0.93      0.93      0.93       164\n",
      "                  macro avg       0.97      0.95      0.95       164\n",
      "               weighted avg       0.94      0.93      0.93       164\n",
      "\n"
     ]
    }
   ],
   "source": [
    "vectorizer = TfidfVectorizer()\n",
    "vectorizer.fit(X_train)\n",
    "X_train_tf = vectorizer.transform(X_train)\n",
    "X_test_tf = vectorizer.transform(X_test)\n",
    "\n",
    "classifier = MultinomialNB()\n",
    "parameters = {'alpha':[1]}\n",
    "gs = GridSearchCV(classifier, parameters, cv = 5)\n",
    "gs.fit(X_train_tf,y_train)\n",
    "\n",
    "confusion_matrix(y_test,gs.predict(X_test_tf))\n",
    "print(classification_report(y_test,gs.predict(X_test_tf)))"
   ]
  },
  {
   "cell_type": "markdown",
   "metadata": {},
   "source": [
    "Nous obtenons des très bons résultats avec de la CrossValidation et TF-IDF. Ces résultats peuvent sûrement être supérieurs avec un autre classifieur comme par exemple un SVM."
   ]
  },
  {
   "cell_type": "markdown",
   "metadata": {},
   "source": [
    "**Dernier point, faire de la génération de texte à partir d'un mot précédent :**"
   ]
  },
  {
   "cell_type": "markdown",
   "metadata": {},
   "source": [
    "On est typiquement sur une utilisation d'un modèle Bi-Gram, je me suis inspiré d'un code de **Yann Soulard** pour implémenter cela avec la Déclaration Universelle des droits de l'Homme :"
   ]
  },
  {
   "cell_type": "code",
   "execution_count": 35,
   "metadata": {},
   "outputs": [
    {
     "name": "stdout",
     "output_type": "stream",
     "text": [
      "Générations : \n",
      "\n",
      "Articlepremier Tous sont doués de maladie , la femme , en droits et à un salaire égal et ont proclamé à la même protection de faire partie d ' homme Préambule Considérant que les garanties nécessaires ; cette volonté . \n",
      "\n",
      "\n",
      "Article15 Tout individu a droit à l ' Organisation des droits et de son bien - fondé de sa famille , ni du droit à des conditions de l ' exprimer par l ' homme ne sera l ' ordre national et ceux de poursuites réellement fondées sur le logement , de la traite des agissements contraires aux principes des Nations Unies , de conscience et de faire partie d ' égalité , l ' homme et satisfaisantes de s ' Etat . \n",
      "\n",
      "\n",
      "Article16 A partir de raison et complétée , tant en commun à sa famille , il est l ' un monde , sans aucune distinction à la liberté et celui de barbarie qui lui sont engagés à favoriser le droit à la dignité et de toutes leurs droits de pensée , Considérant qu ' homme soient nés dans le cas de ses moyens de changer de réunion et plein consentement des droits fondamentaux de poursuites réellement fondées sur le fondement de droit à l ' intermédiaire de meilleures conditions de la paix dans les populations des conditions équitables et tous les droits et à la coopération internationale , détenu ni en coopération internationale , soit par l ' une liberté du mariage ou hors mariage et en tous les êtres humains seront libres et au libre et culturels indispensables à sa vie dans les organes de couleur , de l ' immixtions ou omissions qui implique le fondement de fonder une telle discrimination . \n",
      "\n",
      "\n",
      "Nulne sera infligé aucune restriction quant à la loi . \n",
      "\n",
      "\n",
      "L' organisation et lors de ces droits et à ce que celle qui décidera , non autonome ou territoire dont une égale protection de la justice et de l ' association pacifiques . \n",
      "\n",
      "\n",
      "Toutepersonne a droit à la dignité humaine et ceux de leurs droits égaux devant la liberté de ses droits égaux au suffrage universel égal pour que la personne a le progrès social et de sa famille est ressortissante , tant en d ' en suprême recours , dans le culte et à sa santé , de changer de protection de la protection de manifester sa famille , la présente Déclaration universelle des peines ou dans son pays . \n",
      "\n",
      "\n",
      "Article23 Toute personne a droit sans aucune , ni d ' application universelles et libertés est essentiel d ' homme ont été assurées . \n",
      "\n",
      "\n",
      "L' éducation , de droit , l ' esprit de la présente Déclaration universelle des peines ou omissions qui violerait la reconnaissance de conscience de nationalité , de raison et la dignité humaine , de maladie , à sa dignité inhérente à un procès public qu ' habillement , qu ' acte délictueux d ' Etat . \n",
      "\n",
      "\n",
      "Demême protection sociale , l ' homme ont droit de sa volonté . \n",
      "\n",
      "\n",
      "L' effort national et satisfaisantes de conviction ainsi qu ' association pacifiques . \n",
      "\n",
      "\n"
     ]
    },
    {
     "name": "stderr",
     "output_type": "stream",
     "text": [
      "/Users/mathieuvdc/.virtualenvs/textA/lib/python3.6/site-packages/ipykernel_launcher.py:27: RuntimeWarning: invalid value encountered in true_divide\n"
     ]
    }
   ],
   "source": [
    "texte = nltk.corpus.udhr.words('French_Francais-Latin1')\n",
    "dataX = []\n",
    "for sents in texte:\n",
    "    dataX.append(sents)\n",
    "      \n",
    "def compute_transition_matrix(seq):\n",
    "    \"\"\" Function for computing the transition matrix between characters for a given sequence in input. \"\"\"\n",
    "    unique_states = np.unique(seq)\n",
    "    nb_states = len(unique_states)\n",
    "\n",
    "    A = np.zeros((nb_states+1, nb_states+1)) # +1 = an additional state for beginning or ending a sentence.\n",
    "    # count the transitions\n",
    "    for i in range(len(seq)-1):\n",
    "\n",
    "        if seq[i] in ['.', '!', '?']:\n",
    "            A[np.where(unique_states == seq[i]), -1] += 1\n",
    "            if seq[i+1]==' ' and i+2<len(seq): # If this is a space, we focus on the next character\n",
    "                A[-1, np.where(unique_states == seq[i + 2])] += 1\n",
    "                i += 1\n",
    "            else:\n",
    "                A[-1, np.where(unique_states == seq[i + 1])] += 1\n",
    "        else:\n",
    "            A[np.where(unique_states == seq[i]), np.where(unique_states == seq[i + 1])] += 1\n",
    "    # normalization\n",
    "    for i in range(nb_states+1):\n",
    "        norm = A[i,:].sum()\n",
    "        A[i,:] /= norm\n",
    "    return A\n",
    "\n",
    "\n",
    "def generate_sequences(set_states, A, N):\n",
    "    \"\"\" Generate N sequences using the transition matrix A and according to the possible states defined in set_states \"\"\"\n",
    "\n",
    "    list_seq_gen = []\n",
    "    for i in range(N):\n",
    "\n",
    "        seq_gen = ''\n",
    "        elmt_gen = np.random.choice(set_states, p=A[-1,:-1]) # first term\n",
    "        index_elmt = int(np.where(set_states==elmt_gen)[0])\n",
    "        seq_gen += elmt_gen\n",
    "        while elmt_gen not in ['.', '!', '?']:\n",
    "            #print(elmt_gen, index_elmt)\n",
    "            elmt_gen = np.random.choice(set_states, p=A[index_elmt,:-1])\n",
    "            index_elmt = int(np.where(set_states == elmt_gen)[0])\n",
    "            seq_gen += elmt_gen+\" \"\n",
    "\n",
    "        list_seq_gen.append(seq_gen)\n",
    "\n",
    "    return list_seq_gen\n",
    "\n",
    "\n",
    "unique_states = np.unique(dataX)\n",
    "\n",
    "# Modélisation avec la matrice de transition.\n",
    "transitions = compute_transition_matrix(dataX)\n",
    "\n",
    "# Générons les phrases :\n",
    "n = 10\n",
    "generated_sequences = generate_sequences(unique_states, transitions, n)\n",
    "\n",
    "print(\"Générations : \\n\")\n",
    "for gen_sequence in generated_sequences:\n",
    "    print((gen_sequence+\"\\n\\n\"))"
   ]
  },
  {
   "cell_type": "markdown",
   "metadata": {},
   "source": [
    "**Pour conclure** sur cette génération de textes, on se rend vite compte que c'est imparfait du fait de l'utilisation uniquement du mot précédent. Il faudrait tester avec plus qu'un seul et les résultats seront sûrement meilleurs. Les résultats actuels restent quand même relativement satisfaisants."
   ]
  }
 ],
 "metadata": {
  "kernelspec": {
   "display_name": "Python 3",
   "language": "python",
   "name": "python3"
  },
  "language_info": {
   "codemirror_mode": {
    "name": "ipython",
    "version": 3
   },
   "file_extension": ".py",
   "mimetype": "text/x-python",
   "name": "python",
   "nbconvert_exporter": "python",
   "pygments_lexer": "ipython3",
   "version": "3.6.6"
  }
 },
 "nbformat": 4,
 "nbformat_minor": 2
}
